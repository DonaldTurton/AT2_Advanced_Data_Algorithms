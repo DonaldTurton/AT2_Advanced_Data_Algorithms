{
  "nbformat": 4,
  "nbformat_minor": 0,
  "metadata": {
    "colab": {
      "name": "AT2_ADAA.ipynb",
      "version": "0.3.2",
      "provenance": [],
      "include_colab_link": true
    },
    "kernelspec": {
      "name": "python3",
      "display_name": "Python 3"
    }
  },
  "cells": [
    {
      "cell_type": "markdown",
      "metadata": {
        "id": "view-in-github",
        "colab_type": "text"
      },
      "source": [
        "<a href=\"https://colab.research.google.com/github/DonaldTurton/AT2_Advanced_Data_Algorithms/blob/master/AT2_GetData.ipynb\" target=\"_parent\"><img src=\"https://colab.research.google.com/assets/colab-badge.svg\" alt=\"Open In Colab\"/></a>"
      ]
    },
    {
      "cell_type": "code",
      "metadata": {
        "id": "qVdkQugE6uN5",
        "colab_type": "code",
        "colab": {}
      },
      "source": [
        "# Predicting Energy Prices"
      ],
      "execution_count": 0,
      "outputs": []
    },
    {
      "cell_type": "code",
      "metadata": {
        "id": "PRP1ES4CGSsA",
        "colab_type": "code",
        "colab": {}
      },
      "source": [
        "# Packages\n",
        "import pandas as pd\n",
        "import numpy as np\n",
        "import matplotlib.pyplot as plt #Data Visualization\n",
        "import seaborn as sns #Correlation plot\n",
        "from google.colab import files\n",
        "\n",
        "# Libraries for XGBOOST\n",
        "from sklearn.model_selection import train_test_split\n",
        "from sklearn.preprocessing import Imputer\n"
      ],
      "execution_count": 0,
      "outputs": []
    },
    {
      "cell_type": "code",
      "metadata": {
        "id": "VOeEGvzWKfti",
        "colab_type": "code",
        "outputId": "1b68b9d8-8054-400e-cf62-52d237b7fa92",
        "colab": {
          "base_uri": "https://localhost:8080/",
          "height": 241
        }
      },
      "source": [
        "# Read csv\n",
        "url = 'https://raw.githubusercontent.com/DonaldTurton/AT2_Advanced_Data_Algorithms/master/2018_19_final_data.csv'\n",
        "data = pd.read_csv(url)\n",
        "data.head()"
      ],
      "execution_count": 90,
      "outputs": [
        {
          "output_type": "execute_result",
          "data": {
            "text/html": [
              "<div>\n",
              "<style scoped>\n",
              "    .dataframe tbody tr th:only-of-type {\n",
              "        vertical-align: middle;\n",
              "    }\n",
              "\n",
              "    .dataframe tbody tr th {\n",
              "        vertical-align: top;\n",
              "    }\n",
              "\n",
              "    .dataframe thead th {\n",
              "        text-align: right;\n",
              "    }\n",
              "</style>\n",
              "<table border=\"1\" class=\"dataframe\">\n",
              "  <thead>\n",
              "    <tr style=\"text-align: right;\">\n",
              "      <th></th>\n",
              "      <th>REGION</th>\n",
              "      <th>Year.x</th>\n",
              "      <th>Month</th>\n",
              "      <th>Day</th>\n",
              "      <th>TOTALDEMAND</th>\n",
              "      <th>RRP</th>\n",
              "      <th>PERIODTYPE</th>\n",
              "      <th>date_keep</th>\n",
              "      <th>Product.code.x</th>\n",
              "      <th>Bureau.of.Meteorology.station.number.x</th>\n",
              "      <th>Year.y</th>\n",
              "      <th>Daily.global.solar.exposure..MJ.m.m.</th>\n",
              "      <th>Product.code.y</th>\n",
              "      <th>Bureau.of.Meteorology.station.number.y</th>\n",
              "      <th>Year.x.x</th>\n",
              "      <th>Maximum.temperature..Degree.C.</th>\n",
              "      <th>Days.of.accumulation.of.maximum.temperature</th>\n",
              "      <th>Quality.x</th>\n",
              "      <th>Product.code.x.x</th>\n",
              "      <th>Bureau.of.Meteorology.station.number.x.x</th>\n",
              "      <th>Year.y.y</th>\n",
              "      <th>Minimum.temperature..Degree.C.</th>\n",
              "      <th>Days.of.accumulation.of.minimum.temperature</th>\n",
              "      <th>Quality.y</th>\n",
              "      <th>Product.code.y.y</th>\n",
              "      <th>Bureau.of.Meteorology.station.number.y.y</th>\n",
              "      <th>Year</th>\n",
              "      <th>Rainfall.amount..millimetres.</th>\n",
              "      <th>Period.over.which.rainfall.was.measured..days.</th>\n",
              "      <th>Quality</th>\n",
              "      <th>index</th>\n",
              "      <th>Unnamed: 31</th>\n",
              "      <th>Unnamed: 32</th>\n",
              "      <th>Unnamed: 33</th>\n",
              "      <th>Unnamed: 34</th>\n",
              "      <th>Unnamed: 35</th>\n",
              "      <th>Unnamed: 36</th>\n",
              "    </tr>\n",
              "  </thead>\n",
              "  <tbody>\n",
              "    <tr>\n",
              "      <th>0</th>\n",
              "      <td>NSW1</td>\n",
              "      <td>2018</td>\n",
              "      <td>1</td>\n",
              "      <td>1</td>\n",
              "      <td>6912.25</td>\n",
              "      <td>91.86</td>\n",
              "      <td>TRADE</td>\n",
              "      <td>1/01/2018</td>\n",
              "      <td>IDCJAC0016</td>\n",
              "      <td>66024</td>\n",
              "      <td>2018</td>\n",
              "      <td>31.0</td>\n",
              "      <td>IDCJAC0010</td>\n",
              "      <td>66037</td>\n",
              "      <td>2018</td>\n",
              "      <td>28.3</td>\n",
              "      <td>1</td>\n",
              "      <td>N</td>\n",
              "      <td>IDCJAC0011</td>\n",
              "      <td>66037</td>\n",
              "      <td>2018</td>\n",
              "      <td>20.8</td>\n",
              "      <td>1</td>\n",
              "      <td>N</td>\n",
              "      <td>IDCJAC0009</td>\n",
              "      <td>66037</td>\n",
              "      <td>2018</td>\n",
              "      <td>0.0</td>\n",
              "      <td>1.0</td>\n",
              "      <td>N</td>\n",
              "      <td>1</td>\n",
              "      <td>NaN</td>\n",
              "      <td>NaN</td>\n",
              "      <td>NaN</td>\n",
              "      <td>NaN</td>\n",
              "      <td>NaN</td>\n",
              "      <td>NaN</td>\n",
              "    </tr>\n",
              "    <tr>\n",
              "      <th>1</th>\n",
              "      <td>NSW1</td>\n",
              "      <td>2018</td>\n",
              "      <td>1</td>\n",
              "      <td>1</td>\n",
              "      <td>6745.63</td>\n",
              "      <td>88.83</td>\n",
              "      <td>TRADE</td>\n",
              "      <td>1/01/2018</td>\n",
              "      <td>IDCJAC0016</td>\n",
              "      <td>66024</td>\n",
              "      <td>2018</td>\n",
              "      <td>31.0</td>\n",
              "      <td>IDCJAC0010</td>\n",
              "      <td>66037</td>\n",
              "      <td>2018</td>\n",
              "      <td>28.3</td>\n",
              "      <td>1</td>\n",
              "      <td>N</td>\n",
              "      <td>IDCJAC0011</td>\n",
              "      <td>66037</td>\n",
              "      <td>2018</td>\n",
              "      <td>20.8</td>\n",
              "      <td>1</td>\n",
              "      <td>N</td>\n",
              "      <td>IDCJAC0009</td>\n",
              "      <td>66037</td>\n",
              "      <td>2018</td>\n",
              "      <td>0.0</td>\n",
              "      <td>1.0</td>\n",
              "      <td>N</td>\n",
              "      <td>2</td>\n",
              "      <td>NaN</td>\n",
              "      <td>NaN</td>\n",
              "      <td>NaN</td>\n",
              "      <td>NaN</td>\n",
              "      <td>NaN</td>\n",
              "      <td>NaN</td>\n",
              "    </tr>\n",
              "    <tr>\n",
              "      <th>2</th>\n",
              "      <td>NSW1</td>\n",
              "      <td>2018</td>\n",
              "      <td>1</td>\n",
              "      <td>1</td>\n",
              "      <td>6466.06</td>\n",
              "      <td>73.62</td>\n",
              "      <td>TRADE</td>\n",
              "      <td>1/01/2018</td>\n",
              "      <td>IDCJAC0016</td>\n",
              "      <td>66024</td>\n",
              "      <td>2018</td>\n",
              "      <td>31.0</td>\n",
              "      <td>IDCJAC0010</td>\n",
              "      <td>66037</td>\n",
              "      <td>2018</td>\n",
              "      <td>28.3</td>\n",
              "      <td>1</td>\n",
              "      <td>N</td>\n",
              "      <td>IDCJAC0011</td>\n",
              "      <td>66037</td>\n",
              "      <td>2018</td>\n",
              "      <td>20.8</td>\n",
              "      <td>1</td>\n",
              "      <td>N</td>\n",
              "      <td>IDCJAC0009</td>\n",
              "      <td>66037</td>\n",
              "      <td>2018</td>\n",
              "      <td>0.0</td>\n",
              "      <td>1.0</td>\n",
              "      <td>N</td>\n",
              "      <td>3</td>\n",
              "      <td>NaN</td>\n",
              "      <td>NaN</td>\n",
              "      <td>NaN</td>\n",
              "      <td>NaN</td>\n",
              "      <td>NaN</td>\n",
              "      <td>NaN</td>\n",
              "    </tr>\n",
              "    <tr>\n",
              "      <th>3</th>\n",
              "      <td>NSW1</td>\n",
              "      <td>2018</td>\n",
              "      <td>1</td>\n",
              "      <td>1</td>\n",
              "      <td>6279.80</td>\n",
              "      <td>71.49</td>\n",
              "      <td>TRADE</td>\n",
              "      <td>1/01/2018</td>\n",
              "      <td>IDCJAC0016</td>\n",
              "      <td>66024</td>\n",
              "      <td>2018</td>\n",
              "      <td>31.0</td>\n",
              "      <td>IDCJAC0010</td>\n",
              "      <td>66037</td>\n",
              "      <td>2018</td>\n",
              "      <td>28.3</td>\n",
              "      <td>1</td>\n",
              "      <td>N</td>\n",
              "      <td>IDCJAC0011</td>\n",
              "      <td>66037</td>\n",
              "      <td>2018</td>\n",
              "      <td>20.8</td>\n",
              "      <td>1</td>\n",
              "      <td>N</td>\n",
              "      <td>IDCJAC0009</td>\n",
              "      <td>66037</td>\n",
              "      <td>2018</td>\n",
              "      <td>0.0</td>\n",
              "      <td>1.0</td>\n",
              "      <td>N</td>\n",
              "      <td>4</td>\n",
              "      <td>NaN</td>\n",
              "      <td>NaN</td>\n",
              "      <td>NaN</td>\n",
              "      <td>NaN</td>\n",
              "      <td>NaN</td>\n",
              "      <td>NaN</td>\n",
              "    </tr>\n",
              "    <tr>\n",
              "      <th>4</th>\n",
              "      <td>NSW1</td>\n",
              "      <td>2018</td>\n",
              "      <td>1</td>\n",
              "      <td>1</td>\n",
              "      <td>6177.31</td>\n",
              "      <td>69.27</td>\n",
              "      <td>TRADE</td>\n",
              "      <td>1/01/2018</td>\n",
              "      <td>IDCJAC0016</td>\n",
              "      <td>66024</td>\n",
              "      <td>2018</td>\n",
              "      <td>31.0</td>\n",
              "      <td>IDCJAC0010</td>\n",
              "      <td>66037</td>\n",
              "      <td>2018</td>\n",
              "      <td>28.3</td>\n",
              "      <td>1</td>\n",
              "      <td>N</td>\n",
              "      <td>IDCJAC0011</td>\n",
              "      <td>66037</td>\n",
              "      <td>2018</td>\n",
              "      <td>20.8</td>\n",
              "      <td>1</td>\n",
              "      <td>N</td>\n",
              "      <td>IDCJAC0009</td>\n",
              "      <td>66037</td>\n",
              "      <td>2018</td>\n",
              "      <td>0.0</td>\n",
              "      <td>1.0</td>\n",
              "      <td>N</td>\n",
              "      <td>5</td>\n",
              "      <td>NaN</td>\n",
              "      <td>NaN</td>\n",
              "      <td>NaN</td>\n",
              "      <td>NaN</td>\n",
              "      <td>NaN</td>\n",
              "      <td>NaN</td>\n",
              "    </tr>\n",
              "  </tbody>\n",
              "</table>\n",
              "</div>"
            ],
            "text/plain": [
              "  REGION  Year.x  Month  ...  Unnamed: 34  Unnamed: 35  Unnamed: 36\n",
              "0   NSW1    2018      1  ...          NaN          NaN          NaN\n",
              "1   NSW1    2018      1  ...          NaN          NaN          NaN\n",
              "2   NSW1    2018      1  ...          NaN          NaN          NaN\n",
              "3   NSW1    2018      1  ...          NaN          NaN          NaN\n",
              "4   NSW1    2018      1  ...          NaN          NaN          NaN\n",
              "\n",
              "[5 rows x 37 columns]"
            ]
          },
          "metadata": {
            "tags": []
          },
          "execution_count": 90
        }
      ]
    },
    {
      "cell_type": "code",
      "metadata": {
        "id": "A-Co-ZFrT8hn",
        "colab_type": "code",
        "outputId": "434afbbf-0dd6-4d0f-decb-112c003ac03f",
        "colab": {
          "base_uri": "https://localhost:8080/",
          "height": 34
        }
      },
      "source": [
        "# Exploring the data set\n",
        "data.shape   #28280Obs 28var\n"
      ],
      "execution_count": 91,
      "outputs": [
        {
          "output_type": "execute_result",
          "data": {
            "text/plain": [
              "(28080, 37)"
            ]
          },
          "metadata": {
            "tags": []
          },
          "execution_count": 91
        }
      ]
    },
    {
      "cell_type": "code",
      "metadata": {
        "id": "ubxs6hM9JjmR",
        "colab_type": "code",
        "colab": {
          "base_uri": "https://localhost:8080/",
          "height": 323
        },
        "outputId": "d9ce5a52-e815-42e8-9796-c643ceae7669"
      },
      "source": [
        "# Data Set Selection  \n",
        "data = data.loc[:, [\"RRP\", \"TOTALDEMAND\", \"Month\", \"Day\", \"time\", \"Maximum.temperature..Degree.C.\", \"Minimum.temperature..Degree.C.\", \"Rainfall.amount..millimetres.\", \"Daily.global.solar.exposure..MJ.m.m.\"]]\n",
        "#month, day, demand, maxtemp, mintemp, rainfall, solarexpo, timeofday\n",
        "data.head()\n"
      ],
      "execution_count": 92,
      "outputs": [
        {
          "output_type": "stream",
          "text": [
            "/usr/local/lib/python3.6/dist-packages/pandas/core/indexing.py:1494: FutureWarning: \n",
            "Passing list-likes to .loc or [] with any missing label will raise\n",
            "KeyError in the future, you can use .reindex() as an alternative.\n",
            "\n",
            "See the documentation here:\n",
            "https://pandas.pydata.org/pandas-docs/stable/indexing.html#deprecate-loc-reindex-listlike\n",
            "  return self._getitem_tuple(key)\n"
          ],
          "name": "stderr"
        },
        {
          "output_type": "execute_result",
          "data": {
            "text/html": [
              "<div>\n",
              "<style scoped>\n",
              "    .dataframe tbody tr th:only-of-type {\n",
              "        vertical-align: middle;\n",
              "    }\n",
              "\n",
              "    .dataframe tbody tr th {\n",
              "        vertical-align: top;\n",
              "    }\n",
              "\n",
              "    .dataframe thead th {\n",
              "        text-align: right;\n",
              "    }\n",
              "</style>\n",
              "<table border=\"1\" class=\"dataframe\">\n",
              "  <thead>\n",
              "    <tr style=\"text-align: right;\">\n",
              "      <th></th>\n",
              "      <th>RRP</th>\n",
              "      <th>TOTALDEMAND</th>\n",
              "      <th>Month</th>\n",
              "      <th>Day</th>\n",
              "      <th>time</th>\n",
              "      <th>Maximum.temperature..Degree.C.</th>\n",
              "      <th>Minimum.temperature..Degree.C.</th>\n",
              "      <th>Rainfall.amount..millimetres.</th>\n",
              "      <th>Daily.global.solar.exposure..MJ.m.m.</th>\n",
              "    </tr>\n",
              "  </thead>\n",
              "  <tbody>\n",
              "    <tr>\n",
              "      <th>0</th>\n",
              "      <td>91.86</td>\n",
              "      <td>6912.25</td>\n",
              "      <td>1</td>\n",
              "      <td>1</td>\n",
              "      <td>NaN</td>\n",
              "      <td>28.3</td>\n",
              "      <td>20.8</td>\n",
              "      <td>0.0</td>\n",
              "      <td>31.0</td>\n",
              "    </tr>\n",
              "    <tr>\n",
              "      <th>1</th>\n",
              "      <td>88.83</td>\n",
              "      <td>6745.63</td>\n",
              "      <td>1</td>\n",
              "      <td>1</td>\n",
              "      <td>NaN</td>\n",
              "      <td>28.3</td>\n",
              "      <td>20.8</td>\n",
              "      <td>0.0</td>\n",
              "      <td>31.0</td>\n",
              "    </tr>\n",
              "    <tr>\n",
              "      <th>2</th>\n",
              "      <td>73.62</td>\n",
              "      <td>6466.06</td>\n",
              "      <td>1</td>\n",
              "      <td>1</td>\n",
              "      <td>NaN</td>\n",
              "      <td>28.3</td>\n",
              "      <td>20.8</td>\n",
              "      <td>0.0</td>\n",
              "      <td>31.0</td>\n",
              "    </tr>\n",
              "    <tr>\n",
              "      <th>3</th>\n",
              "      <td>71.49</td>\n",
              "      <td>6279.80</td>\n",
              "      <td>1</td>\n",
              "      <td>1</td>\n",
              "      <td>NaN</td>\n",
              "      <td>28.3</td>\n",
              "      <td>20.8</td>\n",
              "      <td>0.0</td>\n",
              "      <td>31.0</td>\n",
              "    </tr>\n",
              "    <tr>\n",
              "      <th>4</th>\n",
              "      <td>69.27</td>\n",
              "      <td>6177.31</td>\n",
              "      <td>1</td>\n",
              "      <td>1</td>\n",
              "      <td>NaN</td>\n",
              "      <td>28.3</td>\n",
              "      <td>20.8</td>\n",
              "      <td>0.0</td>\n",
              "      <td>31.0</td>\n",
              "    </tr>\n",
              "  </tbody>\n",
              "</table>\n",
              "</div>"
            ],
            "text/plain": [
              "     RRP  ...  Daily.global.solar.exposure..MJ.m.m.\n",
              "0  91.86  ...                                  31.0\n",
              "1  88.83  ...                                  31.0\n",
              "2  73.62  ...                                  31.0\n",
              "3  71.49  ...                                  31.0\n",
              "4  69.27  ...                                  31.0\n",
              "\n",
              "[5 rows x 9 columns]"
            ]
          },
          "metadata": {
            "tags": []
          },
          "execution_count": 92
        }
      ]
    },
    {
      "cell_type": "code",
      "metadata": {
        "id": "T6BVpUWTLNWL",
        "colab_type": "code",
        "colab": {
          "base_uri": "https://localhost:8080/",
          "height": 255
        },
        "outputId": "8dff3a19-559f-41ac-b320-8a857e3c7763"
      },
      "source": [
        "data.info()"
      ],
      "execution_count": 66,
      "outputs": [
        {
          "output_type": "stream",
          "text": [
            "<class 'pandas.core.frame.DataFrame'>\n",
            "RangeIndex: 28280 entries, 0 to 28279\n",
            "Data columns (total 9 columns):\n",
            "RRP                                     28223 non-null float64\n",
            "TOTALDEMAND                             28223 non-null float64\n",
            "Month                                   28280 non-null int64\n",
            "Day                                     28280 non-null int64\n",
            "time                                    28280 non-null object\n",
            "Maximum.temperature..Degree.C.          27696 non-null float64\n",
            "Minimum.temperature..Degree.C.          27648 non-null float64\n",
            "Rainfall.amount..millimetres.           27696 non-null float64\n",
            "Daily.global.solar.exposure..MJ.m.m.    27696 non-null float64\n",
            "dtypes: float64(6), int64(2), object(1)\n",
            "memory usage: 1.9+ MB\n"
          ],
          "name": "stdout"
        }
      ]
    },
    {
      "cell_type": "code",
      "metadata": {
        "id": "1vIqPIW9RHBo",
        "colab_type": "code",
        "colab": {
          "base_uri": "https://localhost:8080/",
          "height": 317
        },
        "outputId": "1fe84b57-5405-47ff-824a-6f8ded274385"
      },
      "source": [
        "data.describe()\n",
        "#MAX DAY 2019???\n",
        "#MAC PRICE 4631??"
      ],
      "execution_count": 71,
      "outputs": [
        {
          "output_type": "execute_result",
          "data": {
            "text/html": [
              "<div>\n",
              "<style scoped>\n",
              "    .dataframe tbody tr th:only-of-type {\n",
              "        vertical-align: middle;\n",
              "    }\n",
              "\n",
              "    .dataframe tbody tr th {\n",
              "        vertical-align: top;\n",
              "    }\n",
              "\n",
              "    .dataframe thead th {\n",
              "        text-align: right;\n",
              "    }\n",
              "</style>\n",
              "<table border=\"1\" class=\"dataframe\">\n",
              "  <thead>\n",
              "    <tr style=\"text-align: right;\">\n",
              "      <th></th>\n",
              "      <th>RRP</th>\n",
              "      <th>TOTALDEMAND</th>\n",
              "      <th>Month</th>\n",
              "      <th>Day</th>\n",
              "      <th>Maximum.temperature..Degree.C.</th>\n",
              "      <th>Minimum.temperature..Degree.C.</th>\n",
              "      <th>Rainfall.amount..millimetres.</th>\n",
              "      <th>Daily.global.solar.exposure..MJ.m.m.</th>\n",
              "    </tr>\n",
              "  </thead>\n",
              "  <tbody>\n",
              "    <tr>\n",
              "      <th>count</th>\n",
              "      <td>28223.000000</td>\n",
              "      <td>28223.000000</td>\n",
              "      <td>28280.000000</td>\n",
              "      <td>28280.000000</td>\n",
              "      <td>27696.000000</td>\n",
              "      <td>27648.000000</td>\n",
              "      <td>27696.000000</td>\n",
              "      <td>27696.000000</td>\n",
              "    </tr>\n",
              "    <tr>\n",
              "      <th>mean</th>\n",
              "      <td>84.265707</td>\n",
              "      <td>8083.738118</td>\n",
              "      <td>5.654562</td>\n",
              "      <td>57.065877</td>\n",
              "      <td>24.088959</td>\n",
              "      <td>14.986241</td>\n",
              "      <td>2.406983</td>\n",
              "      <td>16.021714</td>\n",
              "    </tr>\n",
              "    <tr>\n",
              "      <th>std</th>\n",
              "      <td>58.661135</td>\n",
              "      <td>1236.545692</td>\n",
              "      <td>3.218267</td>\n",
              "      <td>285.016871</td>\n",
              "      <td>5.379311</td>\n",
              "      <td>4.938400</td>\n",
              "      <td>7.057352</td>\n",
              "      <td>7.116626</td>\n",
              "    </tr>\n",
              "    <tr>\n",
              "      <th>min</th>\n",
              "      <td>2.980000</td>\n",
              "      <td>5552.230000</td>\n",
              "      <td>1.000000</td>\n",
              "      <td>1.000000</td>\n",
              "      <td>13.800000</td>\n",
              "      <td>4.200000</td>\n",
              "      <td>0.000000</td>\n",
              "      <td>1.700000</td>\n",
              "    </tr>\n",
              "    <tr>\n",
              "      <th>25%</th>\n",
              "      <td>62.285000</td>\n",
              "      <td>7190.075000</td>\n",
              "      <td>3.000000</td>\n",
              "      <td>8.000000</td>\n",
              "      <td>20.200000</td>\n",
              "      <td>10.700000</td>\n",
              "      <td>0.000000</td>\n",
              "      <td>10.900000</td>\n",
              "    </tr>\n",
              "    <tr>\n",
              "      <th>50%</th>\n",
              "      <td>74.890000</td>\n",
              "      <td>7998.070000</td>\n",
              "      <td>5.000000</td>\n",
              "      <td>16.000000</td>\n",
              "      <td>23.500000</td>\n",
              "      <td>15.300000</td>\n",
              "      <td>0.000000</td>\n",
              "      <td>14.100000</td>\n",
              "    </tr>\n",
              "    <tr>\n",
              "      <th>75%</th>\n",
              "      <td>94.780000</td>\n",
              "      <td>8792.755000</td>\n",
              "      <td>8.000000</td>\n",
              "      <td>24.000000</td>\n",
              "      <td>27.800000</td>\n",
              "      <td>19.200000</td>\n",
              "      <td>0.800000</td>\n",
              "      <td>20.900000</td>\n",
              "    </tr>\n",
              "    <tr>\n",
              "      <th>max</th>\n",
              "      <td>4631.980000</td>\n",
              "      <td>13700.900000</td>\n",
              "      <td>12.000000</td>\n",
              "      <td>2019.000000</td>\n",
              "      <td>43.700000</td>\n",
              "      <td>23.800000</td>\n",
              "      <td>68.400000</td>\n",
              "      <td>32.100000</td>\n",
              "    </tr>\n",
              "  </tbody>\n",
              "</table>\n",
              "</div>"
            ],
            "text/plain": [
              "                RRP  ...  Daily.global.solar.exposure..MJ.m.m.\n",
              "count  28223.000000  ...                          27696.000000\n",
              "mean      84.265707  ...                             16.021714\n",
              "std       58.661135  ...                              7.116626\n",
              "min        2.980000  ...                              1.700000\n",
              "25%       62.285000  ...                             10.900000\n",
              "50%       74.890000  ...                             14.100000\n",
              "75%       94.780000  ...                             20.900000\n",
              "max     4631.980000  ...                             32.100000\n",
              "\n",
              "[8 rows x 8 columns]"
            ]
          },
          "metadata": {
            "tags": []
          },
          "execution_count": 71
        }
      ]
    },
    {
      "cell_type": "code",
      "metadata": {
        "id": "nWhWrDpERNZS",
        "colab_type": "code",
        "outputId": "3ab94772-a5f0-4bb7-afa3-2f21d640cc51",
        "colab": {
          "base_uri": "https://localhost:8080/",
          "height": 187
        }
      },
      "source": [
        "#Find Null values \n",
        "data.isnull().sum()"
      ],
      "execution_count": 72,
      "outputs": [
        {
          "output_type": "execute_result",
          "data": {
            "text/plain": [
              "RRP                                      57\n",
              "TOTALDEMAND                              57\n",
              "Month                                     0\n",
              "Day                                       0\n",
              "time                                      0\n",
              "Maximum.temperature..Degree.C.          584\n",
              "Minimum.temperature..Degree.C.          632\n",
              "Rainfall.amount..millimetres.           584\n",
              "Daily.global.solar.exposure..MJ.m.m.    584\n",
              "dtype: int64"
            ]
          },
          "metadata": {
            "tags": []
          },
          "execution_count": 72
        }
      ]
    },
    {
      "cell_type": "code",
      "metadata": {
        "id": "EiOrPVihKoHY",
        "colab_type": "code",
        "colab": {
          "base_uri": "https://localhost:8080/",
          "height": 523
        },
        "outputId": "755f687b-5bb1-4f16-cd80-bf0932d2d2a8"
      },
      "source": [
        "corr = data.corr()\n",
        "plt.figure(figsize=(13,7))\n",
        "a = sns.heatmap(corr, annot=True, fmt='.2f')\n",
        "rotx = a.set_xticklabels(a.get_xticklabels(), rotation=30) \n",
        "roty = a.set_yticklabels(a.get_yticklabels(), rotation=30) \n",
        "plt.show()"
      ],
      "execution_count": 73,
      "outputs": [
        {
          "output_type": "display_data",
          "data": {
            "image/png": "[encoded data removed]",
            "text/plain": [
              "<Figure size 936x504 with 2 Axes>"
            ]
          },
          "metadata": {
            "tags": []
          }
        }
      ]
    },
    {
      "cell_type": "markdown",
      "metadata": {
        "id": "QoxuIPxaP_fv",
        "colab_type": "text"
      },
      "source": [
        "# XG Boost (First Attempt)"
      ]
    },
    {
      "cell_type": "code",
      "metadata": {
        "id": "SuUN9PUqQLDy",
        "colab_type": "code",
        "colab": {}
      },
      "source": [
        "#Drops Na\n",
        "data.dropna(axis=0, subset=['RRP'], inplace=True)"
      ],
      "execution_count": 0,
      "outputs": []
    },
    {
      "cell_type": "code",
      "metadata": {
        "id": "5apaPA-tR21T",
        "colab_type": "code",
        "outputId": "b7145368-8578-42ff-9fb7-40a4aa3017a7",
        "colab": {
          "base_uri": "https://localhost:8080/",
          "height": 187
        }
      },
      "source": [
        "#Chek \n",
        "data.isnull().sum()"
      ],
      "execution_count": 75,
      "outputs": [
        {
          "output_type": "execute_result",
          "data": {
            "text/plain": [
              "RRP                                       0\n",
              "TOTALDEMAND                               0\n",
              "Month                                     0\n",
              "Day                                       0\n",
              "time                                      0\n",
              "Maximum.temperature..Degree.C.          527\n",
              "Minimum.temperature..Degree.C.          575\n",
              "Rainfall.amount..millimetres.           527\n",
              "Daily.global.solar.exposure..MJ.m.m.    527\n",
              "dtype: int64"
            ]
          },
          "metadata": {
            "tags": []
          },
          "execution_count": 75
        }
      ]
    },
    {
      "cell_type": "code",
      "metadata": {
        "id": "_iWNnyTfR-U-",
        "colab_type": "code",
        "outputId": "e23b07d3-a4ff-4233-f341-5e8c3eb49f9d",
        "colab": {
          "base_uri": "https://localhost:8080/",
          "height": 51
        }
      },
      "source": [
        "# Data partition\n",
        "y = data.RRP\n",
        "X = data.drop(['RRP'], axis=1).select_dtypes(exclude=['object'])\n",
        "train_X, test_X, train_y, test_y = train_test_split(X.as_matrix(), y.as_matrix(), test_size=0.25)"
      ],
      "execution_count": 76,
      "outputs": [
        {
          "output_type": "stream",
          "text": [
            "/usr/local/lib/python3.6/dist-packages/ipykernel_launcher.py:3: FutureWarning: Method .as_matrix will be removed in a future version. Use .values instead.\n",
            "  This is separate from the ipykernel package so we can avoid doing imports until\n"
          ],
          "name": "stderr"
        }
      ]
    },
    {
      "cell_type": "code",
      "metadata": {
        "id": "T2l4oehZTd6I",
        "colab_type": "code",
        "outputId": "ad464097-7fd7-43f6-eed3-1c906bbb4b90",
        "colab": {
          "base_uri": "https://localhost:8080/",
          "height": 71
        }
      },
      "source": [
        "#Imputer\n",
        "my_imputer = Imputer()\n",
        "train_X = my_imputer.fit_transform(train_X)\n",
        "test_X = my_imputer.transform(test_X)"
      ],
      "execution_count": 77,
      "outputs": [
        {
          "output_type": "stream",
          "text": [
            "/usr/local/lib/python3.6/dist-packages/sklearn/utils/deprecation.py:66: DeprecationWarning: Class Imputer is deprecated; Imputer was deprecated in version 0.20 and will be removed in 0.22. Import impute.SimpleImputer from sklearn instead.\n",
            "  warnings.warn(msg, category=DeprecationWarning)\n"
          ],
          "name": "stderr"
        }
      ]
    },
    {
      "cell_type": "code",
      "metadata": {
        "id": "2-tjsiy0TmeC",
        "colab_type": "code",
        "outputId": "eb28f334-02c8-4ec0-c8ec-894cb50cb23a",
        "colab": {
          "base_uri": "https://localhost:8080/",
          "height": 153
        }
      },
      "source": [
        "# Build model\n",
        "from xgboost import XGBRegressor\n",
        "\n",
        "my_model = XGBRegressor()\n",
        "# Add silent=True to avoid printing out updates with each cycle\n",
        "my_model.fit(train_X, train_y, verbose=False)"
      ],
      "execution_count": 78,
      "outputs": [
        {
          "output_type": "stream",
          "text": [
            "[04:15:36] WARNING: /workspace/src/objective/regression_obj.cu:152: reg:linear is now deprecated in favor of reg:squarederror.\n"
          ],
          "name": "stdout"
        },
        {
          "output_type": "execute_result",
          "data": {
            "text/plain": [
              "XGBRegressor(base_score=0.5, booster='gbtree', colsample_bylevel=1,\n",
              "             colsample_bynode=1, colsample_bytree=1, gamma=0,\n",
              "             importance_type='gain', learning_rate=0.1, max_delta_step=0,\n",
              "             max_depth=3, min_child_weight=1, missing=None, n_estimators=100,\n",
              "             n_jobs=1, nthread=None, objective='reg:linear', random_state=0,\n",
              "             reg_alpha=0, reg_lambda=1, scale_pos_weight=1, seed=None,\n",
              "             silent=None, subsample=1, verbosity=1)"
            ]
          },
          "metadata": {
            "tags": []
          },
          "execution_count": 78
        }
      ]
    },
    {
      "cell_type": "code",
      "metadata": {
        "id": "EmYNkQVST0La",
        "colab_type": "code",
        "outputId": "a2b5bb96-bc1e-4272-98a6-17f64ec82b14",
        "colab": {
          "base_uri": "https://localhost:8080/",
          "height": 34
        }
      },
      "source": [
        "# make predictions\n",
        "predictions = my_model.predict(test_X)\n",
        "\n",
        "from sklearn.metrics import mean_absolute_error\n",
        "print(\"Mean Absolute Error : \" + str(mean_absolute_error(predictions, test_y)))"
      ],
      "execution_count": 79,
      "outputs": [
        {
          "output_type": "stream",
          "text": [
            "Mean Absolute Error : 16.017749864487424\n"
          ],
          "name": "stdout"
        }
      ]
    },
    {
      "cell_type": "code",
      "metadata": {
        "id": "i8QII6R9qrKC",
        "colab_type": "code",
        "colab": {
          "base_uri": "https://localhost:8080/",
          "height": 181
        },
        "outputId": "34fffb50-703d-4260-f4bb-3fdd4a038677"
      },
      "source": [
        "Plot trend\n",
        "#Pred_Test= (predictions, test_y)\n",
        "\n",
        "#plt.plot(Pred_Test)\n",
        "#plt.show()"
      ],
      "execution_count": 89,
      "outputs": [
        {
          "output_type": "error",
          "ename": "IndexError",
          "evalue": "ignored",
          "traceback": [
            "\u001b[0;31m---------------------------------------------------------------------------\u001b[0m",
            "\u001b[0;31mIndexError\u001b[0m                                Traceback (most recent call last)",
            "\u001b[0;32m<ipython-input-89-f7c33e5ed834>\u001b[0m in \u001b[0;36m<module>\u001b[0;34m()\u001b[0m\n\u001b[0;32m----> 1\u001b[0;31m \u001b[0mPred_Test\u001b[0m\u001b[0;34m=\u001b[0m \u001b[0mpredictions\u001b[0m\u001b[0;34m[\u001b[0m\u001b[0;34m\"predictions\"\u001b[0m\u001b[0;34m]\u001b[0m\u001b[0;34m.\u001b[0m\u001b[0mvalues\u001b[0m\u001b[0;34m\u001b[0m\u001b[0;34m\u001b[0m\u001b[0m\n\u001b[0m\u001b[1;32m      2\u001b[0m \u001b[0;31m#close_arr = aapl['close'].values\u001b[0m\u001b[0;34m\u001b[0m\u001b[0;34m\u001b[0m\u001b[0;34m\u001b[0m\u001b[0m\n",
            "\u001b[0;31mIndexError\u001b[0m: only integers, slices (`:`), ellipsis (`...`), numpy.newaxis (`None`) and integer or boolean arrays are valid indices"
          ]
        }
      ]
    },
    {
      "cell_type": "code",
      "metadata": {
        "id": "SWBzGbNXT-ed",
        "colab_type": "code",
        "colab": {
          "base_uri": "https://localhost:8080/",
          "height": 51
        },
        "outputId": "b5dc390d-fe67-49d5-c041-ac96008939b5"
      },
      "source": [
        "print(Pred_Test)"
      ],
      "execution_count": 87,
      "outputs": [
        {
          "output_type": "stream",
          "text": [
            "(array([76.28308, 91.89916, 58.30169, ..., 71.07212, 62.65617, 99.35309],\n",
            "      dtype=float32), array([ 66.65,  68.83,  58.19, ...,  42.15,  72.72, 150.25]))\n"
          ],
          "name": "stdout"
        }
      ]
    },
    {
      "cell_type": "code",
      "metadata": {
        "id": "BtPahaCET8a-",
        "colab_type": "code",
        "colab": {}
      },
      "source": [
        "plt.plot(Pred_Test)\n",
        "plt.show()"
      ],
      "execution_count": 0,
      "outputs": []
    },
    {
      "cell_type": "code",
      "metadata": {
        "id": "YDwegDo0wOfs",
        "colab_type": "code",
        "colab": {}
      },
      "source": [
        ""
      ],
      "execution_count": 0,
      "outputs": []
    }
  ]
}