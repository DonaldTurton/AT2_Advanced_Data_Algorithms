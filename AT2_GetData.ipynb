{
  "nbformat": 4,
  "nbformat_minor": 0,
  "metadata": {
    "colab": {
      "name": "AT2_ADAA.ipynb",
      "version": "0.3.2",
      "provenance": [],
      "include_colab_link": true
    },
    "kernelspec": {
      "name": "python3",
      "display_name": "Python 3"
    }
  },
  "cells": [
    {
      "cell_type": "markdown",
      "metadata": {
        "id": "view-in-github",
        "colab_type": "text"
      },
      "source": [
        "<a href=\"https://colab.research.google.com/github/DonaldTurton/AT2_Advanced_Data_Algorithms/blob/feature-engineering/AT2_GetData.ipynb\" target=\"_parent\"><img src=\"https://colab.research.google.com/assets/colab-badge.svg\" alt=\"Open In Colab\"/></a>"
      ]
    },
    {
      "cell_type": "code",
      "metadata": {
        "id": "qVdkQugE6uN5",
        "colab_type": "code",
        "colab": {}
      },
      "source": [
        "# Predicting Energy Prices"
      ],
      "execution_count": 0,
      "outputs": []
    },
    {
      "cell_type": "code",
      "metadata": {
        "id": "PRP1ES4CGSsA",
        "colab_type": "code",
        "colab": {}
      },
      "source": [
        "# Packages\n",
        "import pandas as pd\n",
        "import numpy as np\n",
        "from google.colab import files\n",
        "\n",
        "# Libraries for XGBOOST\n",
        "from sklearn.model_selection import train_test_split\n",
        "from sklearn.preprocessing import Imputer\n"
      ],
      "execution_count": 0,
      "outputs": []
    },
    {
      "cell_type": "code",
      "metadata": {
        "id": "VOeEGvzWKfti",
        "colab_type": "code",
        "outputId": "27a3ebb3-9759-4e71-8c77-2c17f194c490",
        "colab": {
          "base_uri": "https://localhost:8080/",
          "height": 241
        }
      },
      "source": [
        "# Read csv\n",
        "url = 'https://raw.githubusercontent.com/DonaldTurton/AT2_Advanced_Data_Algorithms/master/ADAA_data.csv'\n",
        "data = pd.read_csv(url)\n",
        "data.head()"
      ],
      "execution_count": 2,
      "outputs": [
        {
          "output_type": "execute_result",
          "data": {
            "text/html": [
              "<div>\n",
              "<style scoped>\n",
              "    .dataframe tbody tr th:only-of-type {\n",
              "        vertical-align: middle;\n",
              "    }\n",
              "\n",
              "    .dataframe tbody tr th {\n",
              "        vertical-align: top;\n",
              "    }\n",
              "\n",
              "    .dataframe thead th {\n",
              "        text-align: right;\n",
              "    }\n",
              "</style>\n",
              "<table border=\"1\" class=\"dataframe\">\n",
              "  <thead>\n",
              "    <tr style=\"text-align: right;\">\n",
              "      <th></th>\n",
              "      <th>Unnamed: 0</th>\n",
              "      <th>REGION</th>\n",
              "      <th>Year</th>\n",
              "      <th>Month</th>\n",
              "      <th>Day</th>\n",
              "      <th>time</th>\n",
              "      <th>TOTALDEMAND</th>\n",
              "      <th>RRP</th>\n",
              "      <th>PERIODTYPE</th>\n",
              "      <th>date_keep</th>\n",
              "      <th>Product.code.x</th>\n",
              "      <th>Bureau.of.Meteorology.station.number.x</th>\n",
              "      <th>Daily.global.solar.exposure..MJ.m.m.</th>\n",
              "      <th>Product.code.y</th>\n",
              "      <th>Bureau.of.Meteorology.station.number.y</th>\n",
              "      <th>Maximum.temperature..Degree.C.</th>\n",
              "      <th>Days.of.accumulation.of.maximum.temperature</th>\n",
              "      <th>Quality.x</th>\n",
              "      <th>Product.code.x.x</th>\n",
              "      <th>Bureau.of.Meteorology.station.number.x.x</th>\n",
              "      <th>Minimum.temperature..Degree.C.</th>\n",
              "      <th>Days.of.accumulation.of.minimum.temperature</th>\n",
              "      <th>Quality.y</th>\n",
              "      <th>Product.code.y.y</th>\n",
              "      <th>Bureau.of.Meteorology.station.number.y.y</th>\n",
              "      <th>Rainfall.amount..millimetres.</th>\n",
              "      <th>Period.over.which.rainfall.was.measured..days.</th>\n",
              "      <th>Quality</th>\n",
              "    </tr>\n",
              "  </thead>\n",
              "  <tbody>\n",
              "    <tr>\n",
              "      <th>0</th>\n",
              "      <td>1</td>\n",
              "      <td>NSW1</td>\n",
              "      <td>2018</td>\n",
              "      <td>1</td>\n",
              "      <td>1</td>\n",
              "      <td>00:30:00</td>\n",
              "      <td>6912.25</td>\n",
              "      <td>91.86</td>\n",
              "      <td>TRADE</td>\n",
              "      <td>2018/01/01</td>\n",
              "      <td>IDCJAC0016</td>\n",
              "      <td>66024.0</td>\n",
              "      <td>31.0</td>\n",
              "      <td>IDCJAC0010</td>\n",
              "      <td>66037.0</td>\n",
              "      <td>28.3</td>\n",
              "      <td>1.0</td>\n",
              "      <td>N</td>\n",
              "      <td>IDCJAC0011</td>\n",
              "      <td>66037.0</td>\n",
              "      <td>20.8</td>\n",
              "      <td>1.0</td>\n",
              "      <td>N</td>\n",
              "      <td>IDCJAC0009</td>\n",
              "      <td>66037.0</td>\n",
              "      <td>0.0</td>\n",
              "      <td>1.0</td>\n",
              "      <td>N</td>\n",
              "    </tr>\n",
              "    <tr>\n",
              "      <th>1</th>\n",
              "      <td>2</td>\n",
              "      <td>NSW1</td>\n",
              "      <td>2018</td>\n",
              "      <td>1</td>\n",
              "      <td>1</td>\n",
              "      <td>01:00:00</td>\n",
              "      <td>6745.63</td>\n",
              "      <td>88.83</td>\n",
              "      <td>TRADE</td>\n",
              "      <td>2018/01/01</td>\n",
              "      <td>IDCJAC0016</td>\n",
              "      <td>66024.0</td>\n",
              "      <td>31.0</td>\n",
              "      <td>IDCJAC0010</td>\n",
              "      <td>66037.0</td>\n",
              "      <td>28.3</td>\n",
              "      <td>1.0</td>\n",
              "      <td>N</td>\n",
              "      <td>IDCJAC0011</td>\n",
              "      <td>66037.0</td>\n",
              "      <td>20.8</td>\n",
              "      <td>1.0</td>\n",
              "      <td>N</td>\n",
              "      <td>IDCJAC0009</td>\n",
              "      <td>66037.0</td>\n",
              "      <td>0.0</td>\n",
              "      <td>1.0</td>\n",
              "      <td>N</td>\n",
              "    </tr>\n",
              "    <tr>\n",
              "      <th>2</th>\n",
              "      <td>3</td>\n",
              "      <td>NSW1</td>\n",
              "      <td>2018</td>\n",
              "      <td>1</td>\n",
              "      <td>1</td>\n",
              "      <td>01:30:00</td>\n",
              "      <td>6466.06</td>\n",
              "      <td>73.62</td>\n",
              "      <td>TRADE</td>\n",
              "      <td>2018/01/01</td>\n",
              "      <td>IDCJAC0016</td>\n",
              "      <td>66024.0</td>\n",
              "      <td>31.0</td>\n",
              "      <td>IDCJAC0010</td>\n",
              "      <td>66037.0</td>\n",
              "      <td>28.3</td>\n",
              "      <td>1.0</td>\n",
              "      <td>N</td>\n",
              "      <td>IDCJAC0011</td>\n",
              "      <td>66037.0</td>\n",
              "      <td>20.8</td>\n",
              "      <td>1.0</td>\n",
              "      <td>N</td>\n",
              "      <td>IDCJAC0009</td>\n",
              "      <td>66037.0</td>\n",
              "      <td>0.0</td>\n",
              "      <td>1.0</td>\n",
              "      <td>N</td>\n",
              "    </tr>\n",
              "    <tr>\n",
              "      <th>3</th>\n",
              "      <td>4</td>\n",
              "      <td>NSW1</td>\n",
              "      <td>2018</td>\n",
              "      <td>1</td>\n",
              "      <td>1</td>\n",
              "      <td>02:00:00</td>\n",
              "      <td>6279.80</td>\n",
              "      <td>71.49</td>\n",
              "      <td>TRADE</td>\n",
              "      <td>2018/01/01</td>\n",
              "      <td>IDCJAC0016</td>\n",
              "      <td>66024.0</td>\n",
              "      <td>31.0</td>\n",
              "      <td>IDCJAC0010</td>\n",
              "      <td>66037.0</td>\n",
              "      <td>28.3</td>\n",
              "      <td>1.0</td>\n",
              "      <td>N</td>\n",
              "      <td>IDCJAC0011</td>\n",
              "      <td>66037.0</td>\n",
              "      <td>20.8</td>\n",
              "      <td>1.0</td>\n",
              "      <td>N</td>\n",
              "      <td>IDCJAC0009</td>\n",
              "      <td>66037.0</td>\n",
              "      <td>0.0</td>\n",
              "      <td>1.0</td>\n",
              "      <td>N</td>\n",
              "    </tr>\n",
              "    <tr>\n",
              "      <th>4</th>\n",
              "      <td>5</td>\n",
              "      <td>NSW1</td>\n",
              "      <td>2018</td>\n",
              "      <td>1</td>\n",
              "      <td>1</td>\n",
              "      <td>02:30:00</td>\n",
              "      <td>6177.31</td>\n",
              "      <td>69.27</td>\n",
              "      <td>TRADE</td>\n",
              "      <td>2018/01/01</td>\n",
              "      <td>IDCJAC0016</td>\n",
              "      <td>66024.0</td>\n",
              "      <td>31.0</td>\n",
              "      <td>IDCJAC0010</td>\n",
              "      <td>66037.0</td>\n",
              "      <td>28.3</td>\n",
              "      <td>1.0</td>\n",
              "      <td>N</td>\n",
              "      <td>IDCJAC0011</td>\n",
              "      <td>66037.0</td>\n",
              "      <td>20.8</td>\n",
              "      <td>1.0</td>\n",
              "      <td>N</td>\n",
              "      <td>IDCJAC0009</td>\n",
              "      <td>66037.0</td>\n",
              "      <td>0.0</td>\n",
              "      <td>1.0</td>\n",
              "      <td>N</td>\n",
              "    </tr>\n",
              "  </tbody>\n",
              "</table>\n",
              "</div>"
            ],
            "text/plain": [
              "   Unnamed: 0 REGION  ...  Period.over.which.rainfall.was.measured..days.  Quality\n",
              "0           1   NSW1  ...                                             1.0        N\n",
              "1           2   NSW1  ...                                             1.0        N\n",
              "2           3   NSW1  ...                                             1.0        N\n",
              "3           4   NSW1  ...                                             1.0        N\n",
              "4           5   NSW1  ...                                             1.0        N\n",
              "\n",
              "[5 rows x 28 columns]"
            ]
          },
          "metadata": {
            "tags": []
          },
          "execution_count": 2
        }
      ]
    },
    {
      "cell_type": "code",
      "metadata": {
        "id": "A-Co-ZFrT8hn",
        "colab_type": "code",
        "outputId": "8891707f-e74f-4afb-d039-bf2a3353162b",
        "colab": {
          "base_uri": "https://localhost:8080/",
          "height": 34
        }
      },
      "source": [
        "# Exploring the data set\n",
        "data.shape   #28280Obs 28var\n"
      ],
      "execution_count": 3,
      "outputs": [
        {
          "output_type": "execute_result",
          "data": {
            "text/plain": [
              "(28280, 28)"
            ]
          },
          "metadata": {
            "tags": []
          },
          "execution_count": 3
        }
      ]
    },
    {
      "cell_type": "code",
      "metadata": {
        "id": "fSxnGWJsVALK",
        "colab_type": "code",
        "outputId": "fc553062-b44c-43f8-df3f-b5da68152acf",
        "colab": {
          "base_uri": "https://localhost:8080/",
          "height": 578
        }
      },
      "source": [
        "data.info()"
      ],
      "execution_count": 0,
      "outputs": [
        {
          "output_type": "stream",
          "text": [
            "<class 'pandas.core.frame.DataFrame'>\n",
            "RangeIndex: 28280 entries, 0 to 28279\n",
            "Data columns (total 28 columns):\n",
            "Unnamed: 0                                        28280 non-null int64\n",
            "REGION                                            28224 non-null object\n",
            "Year                                              28280 non-null int64\n",
            "Month                                             28280 non-null int64\n",
            "Day                                               28280 non-null int64\n",
            "time                                              28280 non-null object\n",
            "TOTALDEMAND                                       28223 non-null float64\n",
            "RRP                                               28223 non-null float64\n",
            "PERIODTYPE                                        28223 non-null object\n",
            "date_keep                                         28280 non-null object\n",
            "Product.code.x                                    27696 non-null object\n",
            "Bureau.of.Meteorology.station.number.x            27696 non-null float64\n",
            "Daily.global.solar.exposure..MJ.m.m.              27696 non-null float64\n",
            "Product.code.y                                    27696 non-null object\n",
            "Bureau.of.Meteorology.station.number.y            27696 non-null float64\n",
            "Maximum.temperature..Degree.C.                    27696 non-null float64\n",
            "Days.of.accumulation.of.maximum.temperature       27696 non-null float64\n",
            "Quality.x                                         27696 non-null object\n",
            "Product.code.x.x                                  27696 non-null object\n",
            "Bureau.of.Meteorology.station.number.x.x          27696 non-null float64\n",
            "Minimum.temperature..Degree.C.                    27648 non-null float64\n",
            "Days.of.accumulation.of.minimum.temperature       27648 non-null float64\n",
            "Quality.y                                         27648 non-null object\n",
            "Product.code.y.y                                  27696 non-null object\n",
            "Bureau.of.Meteorology.station.number.y.y          27696 non-null float64\n",
            "Rainfall.amount..millimetres.                     27696 non-null float64\n",
            "Period.over.which.rainfall.was.measured..days.    13008 non-null float64\n",
            "Quality                                           27696 non-null object\n",
            "dtypes: float64(13), int64(4), object(11)\n",
            "memory usage: 6.0+ MB\n"
          ],
          "name": "stdout"
        }
      ]
    },
    {
      "cell_type": "code",
      "metadata": {
        "id": "9XG2MgkLQcXs",
        "colab_type": "code",
        "outputId": "987c3a35-5a36-408c-e4bd-6646b8ab5c77",
        "colab": {
          "base_uri": "https://localhost:8080/",
          "height": 170
        }
      },
      "source": [
        "# Total demand distribution\n",
        "data.TOTALDEMAND.describe()"
      ],
      "execution_count": 0,
      "outputs": [
        {
          "output_type": "execute_result",
          "data": {
            "text/plain": [
              "count    28223.000000\n",
              "mean      8083.738118\n",
              "std       1236.545692\n",
              "min       5552.230000\n",
              "25%       7190.075000\n",
              "50%       7998.070000\n",
              "75%       8792.755000\n",
              "max      13700.900000\n",
              "Name: TOTALDEMAND, dtype: float64"
            ]
          },
          "metadata": {
            "tags": []
          },
          "execution_count": 22
        }
      ]
    },
    {
      "cell_type": "code",
      "metadata": {
        "id": "fudX9MAa5g27",
        "colab_type": "code",
        "outputId": "d8f6b895-d88c-43fa-8e36-e3bb164da4ef",
        "colab": {
          "base_uri": "https://localhost:8080/",
          "height": 170
        }
      },
      "source": [
        "data.RRP.describe()"
      ],
      "execution_count": 0,
      "outputs": [
        {
          "output_type": "execute_result",
          "data": {
            "text/plain": [
              "count    28223.000000\n",
              "mean        84.265707\n",
              "std         58.661135\n",
              "min          2.980000\n",
              "25%         62.285000\n",
              "50%         74.890000\n",
              "75%         94.780000\n",
              "max       4631.980000\n",
              "Name: RRP, dtype: float64"
            ]
          },
          "metadata": {
            "tags": []
          },
          "execution_count": 23
        }
      ]
    },
    {
      "cell_type": "code",
      "metadata": {
        "id": "nWhWrDpERNZS",
        "colab_type": "code",
        "outputId": "b4113b85-e50c-4adf-9f14-922f511cca20",
        "colab": {
          "base_uri": "https://localhost:8080/",
          "height": 510
        }
      },
      "source": [
        "#Find Null values \n",
        "data.isnull().sum()"
      ],
      "execution_count": 0,
      "outputs": [
        {
          "output_type": "execute_result",
          "data": {
            "text/plain": [
              "Unnamed: 0                                            0\n",
              "REGION                                               56\n",
              "Year                                                  0\n",
              "Month                                                 0\n",
              "Day                                                   0\n",
              "time                                                  0\n",
              "TOTALDEMAND                                          57\n",
              "RRP                                                  57\n",
              "PERIODTYPE                                           57\n",
              "date_keep                                             0\n",
              "Product.code.x                                      584\n",
              "Bureau.of.Meteorology.station.number.x              584\n",
              "Daily.global.solar.exposure..MJ.m.m.                584\n",
              "Product.code.y                                      584\n",
              "Bureau.of.Meteorology.station.number.y              584\n",
              "Maximum.temperature..Degree.C.                      584\n",
              "Days.of.accumulation.of.maximum.temperature         584\n",
              "Quality.x                                           584\n",
              "Product.code.x.x                                    584\n",
              "Bureau.of.Meteorology.station.number.x.x            584\n",
              "Minimum.temperature..Degree.C.                      632\n",
              "Days.of.accumulation.of.minimum.temperature         632\n",
              "Quality.y                                           632\n",
              "Product.code.y.y                                    584\n",
              "Bureau.of.Meteorology.station.number.y.y            584\n",
              "Rainfall.amount..millimetres.                       584\n",
              "Period.over.which.rainfall.was.measured..days.    15272\n",
              "Quality                                             584\n",
              "dtype: int64"
            ]
          },
          "metadata": {
            "tags": []
          },
          "execution_count": 24
        }
      ]
    },
    {
      "cell_type": "markdown",
      "metadata": {
        "id": "DteTMiBcaLBP",
        "colab_type": "text"
      },
      "source": [
        "# **Feature Engineering**"
      ]
    },
    {
      "cell_type": "code",
      "metadata": {
        "id": "4JZ5wpmwaO3Z",
        "colab_type": "code",
        "outputId": "ae247e5e-6555-4e0f-d3db-516a7bffda49",
        "colab": {
          "base_uri": "https://localhost:8080/",
          "height": 241
        }
      },
      "source": [
        "# Create a price 1hr moving average\n",
        "\n",
        "data = data.assign(RRP_1hr_moving_avg = data.RRP.rolling(window=2).mean())\n",
        "\n",
        "\n",
        "# Create a price 2hr moving average\n",
        "\n",
        "data = data.assign(RRP_2hr_moving_avg = data.RRP.rolling(window=4).mean())\n",
        "\n",
        "\n",
        "# Create a demand 1hr moving average\n",
        "\n",
        "data = data.assign(demand_1hr_moving_avg = data.TOTALDEMAND.rolling(window=2).mean())\n",
        "\n",
        "\n",
        "# Create a demand 2hr moving average\n",
        "\n",
        "data = data.assign(demand_2hr_moving_avg = data.TOTALDEMAND.rolling(window=4).mean())\n",
        "\n",
        "\n",
        "# Ensure all of the new variables are setup correctly in the table. \n",
        "\n",
        "data.head()\n"
      ],
      "execution_count": 4,
      "outputs": [
        {
          "output_type": "execute_result",
          "data": {
            "text/html": [
              "<div>\n",
              "<style scoped>\n",
              "    .dataframe tbody tr th:only-of-type {\n",
              "        vertical-align: middle;\n",
              "    }\n",
              "\n",
              "    .dataframe tbody tr th {\n",
              "        vertical-align: top;\n",
              "    }\n",
              "\n",
              "    .dataframe thead th {\n",
              "        text-align: right;\n",
              "    }\n",
              "</style>\n",
              "<table border=\"1\" class=\"dataframe\">\n",
              "  <thead>\n",
              "    <tr style=\"text-align: right;\">\n",
              "      <th></th>\n",
              "      <th>Unnamed: 0</th>\n",
              "      <th>REGION</th>\n",
              "      <th>Year</th>\n",
              "      <th>Month</th>\n",
              "      <th>Day</th>\n",
              "      <th>time</th>\n",
              "      <th>TOTALDEMAND</th>\n",
              "      <th>RRP</th>\n",
              "      <th>PERIODTYPE</th>\n",
              "      <th>date_keep</th>\n",
              "      <th>Product.code.x</th>\n",
              "      <th>Bureau.of.Meteorology.station.number.x</th>\n",
              "      <th>Daily.global.solar.exposure..MJ.m.m.</th>\n",
              "      <th>Product.code.y</th>\n",
              "      <th>Bureau.of.Meteorology.station.number.y</th>\n",
              "      <th>Maximum.temperature..Degree.C.</th>\n",
              "      <th>Days.of.accumulation.of.maximum.temperature</th>\n",
              "      <th>Quality.x</th>\n",
              "      <th>Product.code.x.x</th>\n",
              "      <th>Bureau.of.Meteorology.station.number.x.x</th>\n",
              "      <th>Minimum.temperature..Degree.C.</th>\n",
              "      <th>Days.of.accumulation.of.minimum.temperature</th>\n",
              "      <th>Quality.y</th>\n",
              "      <th>Product.code.y.y</th>\n",
              "      <th>Bureau.of.Meteorology.station.number.y.y</th>\n",
              "      <th>Rainfall.amount..millimetres.</th>\n",
              "      <th>Period.over.which.rainfall.was.measured..days.</th>\n",
              "      <th>Quality</th>\n",
              "      <th>RRP_1hr_moving_avg</th>\n",
              "      <th>RRP_2hr_moving_avg</th>\n",
              "      <th>demand_1hr_moving_avg</th>\n",
              "      <th>demand_2hr_moving_avg</th>\n",
              "    </tr>\n",
              "  </thead>\n",
              "  <tbody>\n",
              "    <tr>\n",
              "      <th>0</th>\n",
              "      <td>1</td>\n",
              "      <td>NSW1</td>\n",
              "      <td>2018</td>\n",
              "      <td>1</td>\n",
              "      <td>1</td>\n",
              "      <td>00:30:00</td>\n",
              "      <td>6912.25</td>\n",
              "      <td>91.86</td>\n",
              "      <td>TRADE</td>\n",
              "      <td>2018/01/01</td>\n",
              "      <td>IDCJAC0016</td>\n",
              "      <td>66024.0</td>\n",
              "      <td>31.0</td>\n",
              "      <td>IDCJAC0010</td>\n",
              "      <td>66037.0</td>\n",
              "      <td>28.3</td>\n",
              "      <td>1.0</td>\n",
              "      <td>N</td>\n",
              "      <td>IDCJAC0011</td>\n",
              "      <td>66037.0</td>\n",
              "      <td>20.8</td>\n",
              "      <td>1.0</td>\n",
              "      <td>N</td>\n",
              "      <td>IDCJAC0009</td>\n",
              "      <td>66037.0</td>\n",
              "      <td>0.0</td>\n",
              "      <td>1.0</td>\n",
              "      <td>N</td>\n",
              "      <td>NaN</td>\n",
              "      <td>NaN</td>\n",
              "      <td>NaN</td>\n",
              "      <td>NaN</td>\n",
              "    </tr>\n",
              "    <tr>\n",
              "      <th>1</th>\n",
              "      <td>2</td>\n",
              "      <td>NSW1</td>\n",
              "      <td>2018</td>\n",
              "      <td>1</td>\n",
              "      <td>1</td>\n",
              "      <td>01:00:00</td>\n",
              "      <td>6745.63</td>\n",
              "      <td>88.83</td>\n",
              "      <td>TRADE</td>\n",
              "      <td>2018/01/01</td>\n",
              "      <td>IDCJAC0016</td>\n",
              "      <td>66024.0</td>\n",
              "      <td>31.0</td>\n",
              "      <td>IDCJAC0010</td>\n",
              "      <td>66037.0</td>\n",
              "      <td>28.3</td>\n",
              "      <td>1.0</td>\n",
              "      <td>N</td>\n",
              "      <td>IDCJAC0011</td>\n",
              "      <td>66037.0</td>\n",
              "      <td>20.8</td>\n",
              "      <td>1.0</td>\n",
              "      <td>N</td>\n",
              "      <td>IDCJAC0009</td>\n",
              "      <td>66037.0</td>\n",
              "      <td>0.0</td>\n",
              "      <td>1.0</td>\n",
              "      <td>N</td>\n",
              "      <td>90.345</td>\n",
              "      <td>NaN</td>\n",
              "      <td>6828.940</td>\n",
              "      <td>NaN</td>\n",
              "    </tr>\n",
              "    <tr>\n",
              "      <th>2</th>\n",
              "      <td>3</td>\n",
              "      <td>NSW1</td>\n",
              "      <td>2018</td>\n",
              "      <td>1</td>\n",
              "      <td>1</td>\n",
              "      <td>01:30:00</td>\n",
              "      <td>6466.06</td>\n",
              "      <td>73.62</td>\n",
              "      <td>TRADE</td>\n",
              "      <td>2018/01/01</td>\n",
              "      <td>IDCJAC0016</td>\n",
              "      <td>66024.0</td>\n",
              "      <td>31.0</td>\n",
              "      <td>IDCJAC0010</td>\n",
              "      <td>66037.0</td>\n",
              "      <td>28.3</td>\n",
              "      <td>1.0</td>\n",
              "      <td>N</td>\n",
              "      <td>IDCJAC0011</td>\n",
              "      <td>66037.0</td>\n",
              "      <td>20.8</td>\n",
              "      <td>1.0</td>\n",
              "      <td>N</td>\n",
              "      <td>IDCJAC0009</td>\n",
              "      <td>66037.0</td>\n",
              "      <td>0.0</td>\n",
              "      <td>1.0</td>\n",
              "      <td>N</td>\n",
              "      <td>81.225</td>\n",
              "      <td>NaN</td>\n",
              "      <td>6605.845</td>\n",
              "      <td>NaN</td>\n",
              "    </tr>\n",
              "    <tr>\n",
              "      <th>3</th>\n",
              "      <td>4</td>\n",
              "      <td>NSW1</td>\n",
              "      <td>2018</td>\n",
              "      <td>1</td>\n",
              "      <td>1</td>\n",
              "      <td>02:00:00</td>\n",
              "      <td>6279.80</td>\n",
              "      <td>71.49</td>\n",
              "      <td>TRADE</td>\n",
              "      <td>2018/01/01</td>\n",
              "      <td>IDCJAC0016</td>\n",
              "      <td>66024.0</td>\n",
              "      <td>31.0</td>\n",
              "      <td>IDCJAC0010</td>\n",
              "      <td>66037.0</td>\n",
              "      <td>28.3</td>\n",
              "      <td>1.0</td>\n",
              "      <td>N</td>\n",
              "      <td>IDCJAC0011</td>\n",
              "      <td>66037.0</td>\n",
              "      <td>20.8</td>\n",
              "      <td>1.0</td>\n",
              "      <td>N</td>\n",
              "      <td>IDCJAC0009</td>\n",
              "      <td>66037.0</td>\n",
              "      <td>0.0</td>\n",
              "      <td>1.0</td>\n",
              "      <td>N</td>\n",
              "      <td>72.555</td>\n",
              "      <td>81.4500</td>\n",
              "      <td>6372.930</td>\n",
              "      <td>6600.935</td>\n",
              "    </tr>\n",
              "    <tr>\n",
              "      <th>4</th>\n",
              "      <td>5</td>\n",
              "      <td>NSW1</td>\n",
              "      <td>2018</td>\n",
              "      <td>1</td>\n",
              "      <td>1</td>\n",
              "      <td>02:30:00</td>\n",
              "      <td>6177.31</td>\n",
              "      <td>69.27</td>\n",
              "      <td>TRADE</td>\n",
              "      <td>2018/01/01</td>\n",
              "      <td>IDCJAC0016</td>\n",
              "      <td>66024.0</td>\n",
              "      <td>31.0</td>\n",
              "      <td>IDCJAC0010</td>\n",
              "      <td>66037.0</td>\n",
              "      <td>28.3</td>\n",
              "      <td>1.0</td>\n",
              "      <td>N</td>\n",
              "      <td>IDCJAC0011</td>\n",
              "      <td>66037.0</td>\n",
              "      <td>20.8</td>\n",
              "      <td>1.0</td>\n",
              "      <td>N</td>\n",
              "      <td>IDCJAC0009</td>\n",
              "      <td>66037.0</td>\n",
              "      <td>0.0</td>\n",
              "      <td>1.0</td>\n",
              "      <td>N</td>\n",
              "      <td>70.380</td>\n",
              "      <td>75.8025</td>\n",
              "      <td>6228.555</td>\n",
              "      <td>6417.200</td>\n",
              "    </tr>\n",
              "  </tbody>\n",
              "</table>\n",
              "</div>"
            ],
            "text/plain": [
              "   Unnamed: 0 REGION  ...  demand_1hr_moving_avg  demand_2hr_moving_avg\n",
              "0           1   NSW1  ...                    NaN                    NaN\n",
              "1           2   NSW1  ...               6828.940                    NaN\n",
              "2           3   NSW1  ...               6605.845                    NaN\n",
              "3           4   NSW1  ...               6372.930               6600.935\n",
              "4           5   NSW1  ...               6228.555               6417.200\n",
              "\n",
              "[5 rows x 32 columns]"
            ]
          },
          "metadata": {
            "tags": []
          },
          "execution_count": 4
        }
      ]
    },
    {
      "cell_type": "markdown",
      "metadata": {
        "id": "QoxuIPxaP_fv",
        "colab_type": "text"
      },
      "source": [
        "# XG Boost (First Attempt)"
      ]
    },
    {
      "cell_type": "code",
      "metadata": {
        "id": "whQ3YhpL5qqv",
        "colab_type": "code",
        "colab": {}
      },
      "source": [
        "# Data Set Selection  (delete useless variable)\n",
        "# data = data.loc[:, [-\"Product.code.x\", -\"Product.code.y\"]]"
      ],
      "execution_count": 0,
      "outputs": []
    },
    {
      "cell_type": "code",
      "metadata": {
        "id": "SuUN9PUqQLDy",
        "colab_type": "code",
        "colab": {}
      },
      "source": [
        "#Drops Na\n",
        "data.dropna(axis=0, subset=['RRP'], inplace=True)"
      ],
      "execution_count": 0,
      "outputs": []
    },
    {
      "cell_type": "code",
      "metadata": {
        "id": "5apaPA-tR21T",
        "colab_type": "code",
        "outputId": "855a8a48-b193-445d-9210-6dee9dace1bd",
        "colab": {
          "base_uri": "https://localhost:8080/",
          "height": 510
        }
      },
      "source": [
        "#Chek \n",
        "data.isnull().sum()"
      ],
      "execution_count": 0,
      "outputs": [
        {
          "output_type": "execute_result",
          "data": {
            "text/plain": [
              "Unnamed: 0                                            0\n",
              "REGION                                                0\n",
              "Year                                                  0\n",
              "Month                                                 0\n",
              "Day                                                   0\n",
              "time                                                  0\n",
              "TOTALDEMAND                                           0\n",
              "RRP                                                   0\n",
              "PERIODTYPE                                            0\n",
              "date_keep                                             0\n",
              "Product.code.x                                      527\n",
              "Bureau.of.Meteorology.station.number.x              527\n",
              "Daily.global.solar.exposure..MJ.m.m.                527\n",
              "Product.code.y                                      527\n",
              "Bureau.of.Meteorology.station.number.y              527\n",
              "Maximum.temperature..Degree.C.                      527\n",
              "Days.of.accumulation.of.maximum.temperature         527\n",
              "Quality.x                                           527\n",
              "Product.code.x.x                                    527\n",
              "Bureau.of.Meteorology.station.number.x.x            527\n",
              "Minimum.temperature..Degree.C.                      575\n",
              "Days.of.accumulation.of.minimum.temperature         575\n",
              "Quality.y                                           575\n",
              "Product.code.y.y                                    527\n",
              "Bureau.of.Meteorology.station.number.y.y            527\n",
              "Rainfall.amount..millimetres.                       527\n",
              "Period.over.which.rainfall.was.measured..days.    15215\n",
              "Quality                                             527\n",
              "dtype: int64"
            ]
          },
          "metadata": {
            "tags": []
          },
          "execution_count": 27
        }
      ]
    },
    {
      "cell_type": "code",
      "metadata": {
        "id": "_iWNnyTfR-U-",
        "colab_type": "code",
        "outputId": "031f622a-afb2-4ff0-953d-ee2dc3b06f42",
        "colab": {
          "base_uri": "https://localhost:8080/",
          "height": 51
        }
      },
      "source": [
        "# Data partition\n",
        "y = data.RRP\n",
        "X = data.drop(['RRP'], axis=1).select_dtypes(exclude=['object'])\n",
        "train_X, test_X, train_y, test_y = train_test_split(X.as_matrix(), y.as_matrix(), test_size=0.25)"
      ],
      "execution_count": 0,
      "outputs": [
        {
          "output_type": "stream",
          "text": [
            "/usr/local/lib/python3.6/dist-packages/ipykernel_launcher.py:3: FutureWarning: Method .as_matrix will be removed in a future version. Use .values instead.\n",
            "  This is separate from the ipykernel package so we can avoid doing imports until\n"
          ],
          "name": "stderr"
        }
      ]
    },
    {
      "cell_type": "code",
      "metadata": {
        "id": "T2l4oehZTd6I",
        "colab_type": "code",
        "outputId": "a11e0d5d-efa8-481b-f0d0-c2d458642abf",
        "colab": {
          "base_uri": "https://localhost:8080/",
          "height": 71
        }
      },
      "source": [
        "#Imputer\n",
        "my_imputer = Imputer()\n",
        "train_X = my_imputer.fit_transform(train_X)\n",
        "test_X = my_imputer.transform(test_X)"
      ],
      "execution_count": 0,
      "outputs": [
        {
          "output_type": "stream",
          "text": [
            "/usr/local/lib/python3.6/dist-packages/sklearn/utils/deprecation.py:66: DeprecationWarning: Class Imputer is deprecated; Imputer was deprecated in version 0.20 and will be removed in 0.22. Import impute.SimpleImputer from sklearn instead.\n",
            "  warnings.warn(msg, category=DeprecationWarning)\n"
          ],
          "name": "stderr"
        }
      ]
    },
    {
      "cell_type": "code",
      "metadata": {
        "id": "2-tjsiy0TmeC",
        "colab_type": "code",
        "outputId": "58bf78b6-a905-4277-b542-4a1ce4d86a37",
        "colab": {
          "base_uri": "https://localhost:8080/",
          "height": 153
        }
      },
      "source": [
        "# Build model\n",
        "from xgboost import XGBRegressor\n",
        "\n",
        "my_model = XGBRegressor()\n",
        "# Add silent=True to avoid printing out updates with each cycle\n",
        "my_model.fit(train_X, train_y, verbose=False)"
      ],
      "execution_count": 0,
      "outputs": [
        {
          "output_type": "stream",
          "text": [
            "[04:13:34] WARNING: /workspace/src/objective/regression_obj.cu:152: reg:linear is now deprecated in favor of reg:squarederror.\n"
          ],
          "name": "stdout"
        },
        {
          "output_type": "execute_result",
          "data": {
            "text/plain": [
              "XGBRegressor(base_score=0.5, booster='gbtree', colsample_bylevel=1,\n",
              "             colsample_bynode=1, colsample_bytree=1, gamma=0,\n",
              "             importance_type='gain', learning_rate=0.1, max_delta_step=0,\n",
              "             max_depth=3, min_child_weight=1, missing=None, n_estimators=100,\n",
              "             n_jobs=1, nthread=None, objective='reg:linear', random_state=0,\n",
              "             reg_alpha=0, reg_lambda=1, scale_pos_weight=1, seed=None,\n",
              "             silent=None, subsample=1, verbosity=1)"
            ]
          },
          "metadata": {
            "tags": []
          },
          "execution_count": 30
        }
      ]
    },
    {
      "cell_type": "code",
      "metadata": {
        "id": "EmYNkQVST0La",
        "colab_type": "code",
        "outputId": "11ec9ae5-1ebf-415f-d244-bfd328087693",
        "colab": {
          "base_uri": "https://localhost:8080/",
          "height": 34
        }
      },
      "source": [
        "# make predictions\n",
        "predictions = my_model.predict(test_X)\n",
        "\n",
        "from sklearn.metrics import mean_absolute_error\n",
        "print(\"Mean Absolute Error : \" + str(mean_absolute_error(predictions, test_y)))"
      ],
      "execution_count": 0,
      "outputs": [
        {
          "output_type": "stream",
          "text": [
            "Mean Absolute Error : 15.305550318715794\n"
          ],
          "name": "stdout"
        }
      ]
    }
  ]
}