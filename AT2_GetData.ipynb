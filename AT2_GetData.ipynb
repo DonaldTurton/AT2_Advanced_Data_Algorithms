{
  "nbformat": 4,
  "nbformat_minor": 0,
  "metadata": {
    "colab": {
      "name": "AT2_ADAA.ipynb",
      "version": "0.3.2",
      "provenance": [],
      "include_colab_link": true
    },
    "kernelspec": {
      "name": "python3",
      "display_name": "Python 3"
    }
  },
  "cells": [
    {
      "cell_type": "markdown",
      "metadata": {
        "id": "view-in-github",
        "colab_type": "text"
      },
      "source": [
        "<a href=\"https://colab.research.google.com/github/DonaldTurton/AT2_Advanced_Data_Algorithms/blob/master/AT2_GetData.ipynb\" target=\"_parent\"><img src=\"https://colab.research.google.com/assets/colab-badge.svg\" alt=\"Open In Colab\"/></a>"
      ]
    },
    {
      "cell_type": "code",
      "metadata": {
        "id": "qVdkQugE6uN5",
        "colab_type": "code",
        "colab": {}
      },
      "source": [
        "# Predicting Energy Prices"
      ],
      "execution_count": 0,
      "outputs": []
    },
    {
      "cell_type": "code",
      "metadata": {
        "id": "PRP1ES4CGSsA",
        "colab_type": "code",
        "colab": {}
      },
      "source": [
        "# Packages\n",
        "import pandas as pd\n",
        "import numpy as np\n",
        "from google.colab import files\n"
      ],
      "execution_count": 0,
      "outputs": []
    },
    {
      "cell_type": "code",
      "metadata": {
        "id": "VOeEGvzWKfti",
        "colab_type": "code",
        "colab": {
          "base_uri": "https://localhost:8080/",
          "height": 241
        },
        "outputId": "1e5cfeca-80be-4242-bb49-884566995cb9"
      },
      "source": [
        "# Read csv\n",
        "url = 'https://raw.githubusercontent.com/DonaldTurton/AT2_Advanced_Data_Algorithms/master/ADAA_data.csv'\n",
        "data = pd.read_csv(url)\n",
        "data.head()"
      ],
      "execution_count": 23,
      "outputs": [
        {
          "output_type": "execute_result",
          "data": {
            "text/html": [
              "<div>\n",
              "<style scoped>\n",
              "    .dataframe tbody tr th:only-of-type {\n",
              "        vertical-align: middle;\n",
              "    }\n",
              "\n",
              "    .dataframe tbody tr th {\n",
              "        vertical-align: top;\n",
              "    }\n",
              "\n",
              "    .dataframe thead th {\n",
              "        text-align: right;\n",
              "    }\n",
              "</style>\n",
              "<table border=\"1\" class=\"dataframe\">\n",
              "  <thead>\n",
              "    <tr style=\"text-align: right;\">\n",
              "      <th></th>\n",
              "      <th>Unnamed: 0</th>\n",
              "      <th>REGION</th>\n",
              "      <th>Year</th>\n",
              "      <th>Month</th>\n",
              "      <th>Day</th>\n",
              "      <th>time</th>\n",
              "      <th>TOTALDEMAND</th>\n",
              "      <th>RRP</th>\n",
              "      <th>PERIODTYPE</th>\n",
              "      <th>date_keep</th>\n",
              "      <th>Product.code.x</th>\n",
              "      <th>Bureau.of.Meteorology.station.number.x</th>\n",
              "      <th>Daily.global.solar.exposure..MJ.m.m.</th>\n",
              "      <th>Product.code.y</th>\n",
              "      <th>Bureau.of.Meteorology.station.number.y</th>\n",
              "      <th>Maximum.temperature..Degree.C.</th>\n",
              "      <th>Days.of.accumulation.of.maximum.temperature</th>\n",
              "      <th>Quality.x</th>\n",
              "      <th>Product.code.x.x</th>\n",
              "      <th>Bureau.of.Meteorology.station.number.x.x</th>\n",
              "      <th>Minimum.temperature..Degree.C.</th>\n",
              "      <th>Days.of.accumulation.of.minimum.temperature</th>\n",
              "      <th>Quality.y</th>\n",
              "      <th>Product.code.y.y</th>\n",
              "      <th>Bureau.of.Meteorology.station.number.y.y</th>\n",
              "      <th>Rainfall.amount..millimetres.</th>\n",
              "      <th>Period.over.which.rainfall.was.measured..days.</th>\n",
              "      <th>Quality</th>\n",
              "    </tr>\n",
              "  </thead>\n",
              "  <tbody>\n",
              "    <tr>\n",
              "      <th>0</th>\n",
              "      <td>1</td>\n",
              "      <td>NSW1</td>\n",
              "      <td>2018</td>\n",
              "      <td>1</td>\n",
              "      <td>1</td>\n",
              "      <td>00:30:00</td>\n",
              "      <td>6912.25</td>\n",
              "      <td>91.86</td>\n",
              "      <td>TRADE</td>\n",
              "      <td>2018/01/01</td>\n",
              "      <td>IDCJAC0016</td>\n",
              "      <td>66024.0</td>\n",
              "      <td>31.0</td>\n",
              "      <td>IDCJAC0010</td>\n",
              "      <td>66037.0</td>\n",
              "      <td>28.3</td>\n",
              "      <td>1.0</td>\n",
              "      <td>N</td>\n",
              "      <td>IDCJAC0011</td>\n",
              "      <td>66037.0</td>\n",
              "      <td>20.8</td>\n",
              "      <td>1.0</td>\n",
              "      <td>N</td>\n",
              "      <td>IDCJAC0009</td>\n",
              "      <td>66037.0</td>\n",
              "      <td>0.0</td>\n",
              "      <td>1.0</td>\n",
              "      <td>N</td>\n",
              "    </tr>\n",
              "    <tr>\n",
              "      <th>1</th>\n",
              "      <td>2</td>\n",
              "      <td>NSW1</td>\n",
              "      <td>2018</td>\n",
              "      <td>1</td>\n",
              "      <td>1</td>\n",
              "      <td>01:00:00</td>\n",
              "      <td>6745.63</td>\n",
              "      <td>88.83</td>\n",
              "      <td>TRADE</td>\n",
              "      <td>2018/01/01</td>\n",
              "      <td>IDCJAC0016</td>\n",
              "      <td>66024.0</td>\n",
              "      <td>31.0</td>\n",
              "      <td>IDCJAC0010</td>\n",
              "      <td>66037.0</td>\n",
              "      <td>28.3</td>\n",
              "      <td>1.0</td>\n",
              "      <td>N</td>\n",
              "      <td>IDCJAC0011</td>\n",
              "      <td>66037.0</td>\n",
              "      <td>20.8</td>\n",
              "      <td>1.0</td>\n",
              "      <td>N</td>\n",
              "      <td>IDCJAC0009</td>\n",
              "      <td>66037.0</td>\n",
              "      <td>0.0</td>\n",
              "      <td>1.0</td>\n",
              "      <td>N</td>\n",
              "    </tr>\n",
              "    <tr>\n",
              "      <th>2</th>\n",
              "      <td>3</td>\n",
              "      <td>NSW1</td>\n",
              "      <td>2018</td>\n",
              "      <td>1</td>\n",
              "      <td>1</td>\n",
              "      <td>01:30:00</td>\n",
              "      <td>6466.06</td>\n",
              "      <td>73.62</td>\n",
              "      <td>TRADE</td>\n",
              "      <td>2018/01/01</td>\n",
              "      <td>IDCJAC0016</td>\n",
              "      <td>66024.0</td>\n",
              "      <td>31.0</td>\n",
              "      <td>IDCJAC0010</td>\n",
              "      <td>66037.0</td>\n",
              "      <td>28.3</td>\n",
              "      <td>1.0</td>\n",
              "      <td>N</td>\n",
              "      <td>IDCJAC0011</td>\n",
              "      <td>66037.0</td>\n",
              "      <td>20.8</td>\n",
              "      <td>1.0</td>\n",
              "      <td>N</td>\n",
              "      <td>IDCJAC0009</td>\n",
              "      <td>66037.0</td>\n",
              "      <td>0.0</td>\n",
              "      <td>1.0</td>\n",
              "      <td>N</td>\n",
              "    </tr>\n",
              "    <tr>\n",
              "      <th>3</th>\n",
              "      <td>4</td>\n",
              "      <td>NSW1</td>\n",
              "      <td>2018</td>\n",
              "      <td>1</td>\n",
              "      <td>1</td>\n",
              "      <td>02:00:00</td>\n",
              "      <td>6279.80</td>\n",
              "      <td>71.49</td>\n",
              "      <td>TRADE</td>\n",
              "      <td>2018/01/01</td>\n",
              "      <td>IDCJAC0016</td>\n",
              "      <td>66024.0</td>\n",
              "      <td>31.0</td>\n",
              "      <td>IDCJAC0010</td>\n",
              "      <td>66037.0</td>\n",
              "      <td>28.3</td>\n",
              "      <td>1.0</td>\n",
              "      <td>N</td>\n",
              "      <td>IDCJAC0011</td>\n",
              "      <td>66037.0</td>\n",
              "      <td>20.8</td>\n",
              "      <td>1.0</td>\n",
              "      <td>N</td>\n",
              "      <td>IDCJAC0009</td>\n",
              "      <td>66037.0</td>\n",
              "      <td>0.0</td>\n",
              "      <td>1.0</td>\n",
              "      <td>N</td>\n",
              "    </tr>\n",
              "    <tr>\n",
              "      <th>4</th>\n",
              "      <td>5</td>\n",
              "      <td>NSW1</td>\n",
              "      <td>2018</td>\n",
              "      <td>1</td>\n",
              "      <td>1</td>\n",
              "      <td>02:30:00</td>\n",
              "      <td>6177.31</td>\n",
              "      <td>69.27</td>\n",
              "      <td>TRADE</td>\n",
              "      <td>2018/01/01</td>\n",
              "      <td>IDCJAC0016</td>\n",
              "      <td>66024.0</td>\n",
              "      <td>31.0</td>\n",
              "      <td>IDCJAC0010</td>\n",
              "      <td>66037.0</td>\n",
              "      <td>28.3</td>\n",
              "      <td>1.0</td>\n",
              "      <td>N</td>\n",
              "      <td>IDCJAC0011</td>\n",
              "      <td>66037.0</td>\n",
              "      <td>20.8</td>\n",
              "      <td>1.0</td>\n",
              "      <td>N</td>\n",
              "      <td>IDCJAC0009</td>\n",
              "      <td>66037.0</td>\n",
              "      <td>0.0</td>\n",
              "      <td>1.0</td>\n",
              "      <td>N</td>\n",
              "    </tr>\n",
              "  </tbody>\n",
              "</table>\n",
              "</div>"
            ],
            "text/plain": [
              "   Unnamed: 0 REGION  ...  Period.over.which.rainfall.was.measured..days.  Quality\n",
              "0           1   NSW1  ...                                             1.0        N\n",
              "1           2   NSW1  ...                                             1.0        N\n",
              "2           3   NSW1  ...                                             1.0        N\n",
              "3           4   NSW1  ...                                             1.0        N\n",
              "4           5   NSW1  ...                                             1.0        N\n",
              "\n",
              "[5 rows x 28 columns]"
            ]
          },
          "metadata": {
            "tags": []
          },
          "execution_count": 23
        }
      ]
    },
    {
      "cell_type": "code",
      "metadata": {
        "id": "A-Co-ZFrT8hn",
        "colab_type": "code",
        "colab": {
          "base_uri": "https://localhost:8080/",
          "height": 34
        },
        "outputId": "9992cc0e-386f-4e4c-8a05-c4eab9cbdf91"
      },
      "source": [
        "# Exploring the data set\n",
        "data.shape   #28280Obs 28var\n"
      ],
      "execution_count": 28,
      "outputs": [
        {
          "output_type": "execute_result",
          "data": {
            "text/plain": [
              "(28280, 28)"
            ]
          },
          "metadata": {
            "tags": []
          },
          "execution_count": 28
        }
      ]
    },
    {
      "cell_type": "code",
      "metadata": {
        "id": "fSxnGWJsVALK",
        "colab_type": "code",
        "colab": {
          "base_uri": "https://localhost:8080/",
          "height": 578
        },
        "outputId": "794721b2-5385-4e3e-a1cd-c138d8545bab"
      },
      "source": [
        "data.info()"
      ],
      "execution_count": 31,
      "outputs": [
        {
          "output_type": "stream",
          "text": [
            "<class 'pandas.core.frame.DataFrame'>\n",
            "RangeIndex: 28280 entries, 0 to 28279\n",
            "Data columns (total 28 columns):\n",
            "Unnamed: 0                                        28280 non-null int64\n",
            "REGION                                            28224 non-null object\n",
            "Year                                              28280 non-null int64\n",
            "Month                                             28280 non-null int64\n",
            "Day                                               28280 non-null int64\n",
            "time                                              28280 non-null object\n",
            "TOTALDEMAND                                       28223 non-null float64\n",
            "RRP                                               28223 non-null float64\n",
            "PERIODTYPE                                        28223 non-null object\n",
            "date_keep                                         28280 non-null object\n",
            "Product.code.x                                    27696 non-null object\n",
            "Bureau.of.Meteorology.station.number.x            27696 non-null float64\n",
            "Daily.global.solar.exposure..MJ.m.m.              27696 non-null float64\n",
            "Product.code.y                                    27696 non-null object\n",
            "Bureau.of.Meteorology.station.number.y            27696 non-null float64\n",
            "Maximum.temperature..Degree.C.                    27696 non-null float64\n",
            "Days.of.accumulation.of.maximum.temperature       27696 non-null float64\n",
            "Quality.x                                         27696 non-null object\n",
            "Product.code.x.x                                  27696 non-null object\n",
            "Bureau.of.Meteorology.station.number.x.x          27696 non-null float64\n",
            "Minimum.temperature..Degree.C.                    27648 non-null float64\n",
            "Days.of.accumulation.of.minimum.temperature       27648 non-null float64\n",
            "Quality.y                                         27648 non-null object\n",
            "Product.code.y.y                                  27696 non-null object\n",
            "Bureau.of.Meteorology.station.number.y.y          27696 non-null float64\n",
            "Rainfall.amount..millimetres.                     27696 non-null float64\n",
            "Period.over.which.rainfall.was.measured..days.    13008 non-null float64\n",
            "Quality                                           27696 non-null object\n",
            "dtypes: float64(13), int64(4), object(11)\n",
            "memory usage: 6.0+ MB\n"
          ],
          "name": "stdout"
        }
      ]
    }
  ]
}